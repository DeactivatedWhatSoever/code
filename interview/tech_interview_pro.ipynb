{
 "cells": [
  {
   "cell_type": "markdown",
   "metadata": {},
   "source": [
    "# Tech Interview Pro\n",
    "It's an interview program that TechLead and JomaTech made. They're both YouTubers, have solid content, and well, I love how they're doing their jobs. They both work at FANG companies, and have recent success into getting in them. So I think 500 bucks isn't that much of a rip off. Let's do it.\n",
    "\n",
    "## Table of Contents\n",
    "* Understanding the Interview Process\n",
    "* Four Axes of the Interview\n",
    "* Interviewing Masterlcass\n",
    "* Data Structures and Algorithms\n",
    "* Coding Sessions\n",
    "* Mock Interview\n",
    "* Negotiating and Accepting the Offer"
   ]
  },
  {
   "cell_type": "markdown",
   "metadata": {},
   "source": []
  }
 ],
 "metadata": {
  "kernelspec": {
   "display_name": "Python 3",
   "language": "python",
   "name": "python3"
  },
  "language_info": {
   "codemirror_mode": {
    "name": "ipython",
    "version": 3
   },
   "file_extension": ".py",
   "mimetype": "text/x-python",
   "name": "python",
   "nbconvert_exporter": "python",
   "pygments_lexer": "ipython3",
   "version": "3.6.8"
  }
 },
 "nbformat": 4,
 "nbformat_minor": 2
}
