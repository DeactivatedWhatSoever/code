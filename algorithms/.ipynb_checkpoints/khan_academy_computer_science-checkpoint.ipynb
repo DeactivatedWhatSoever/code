{
 "cells": [
  {
   "cell_type": "markdown",
   "metadata": {},
   "source": [
    "# Khan Academy - Computer Science\n",
    "The reason I'm taking this course is because the overview it has. It mostly has the most essential parts and I'd love to take it from the easy level. How easy I know is how much close you can get to the essence of what you're learning. Khan academy focuses on letting kids, or any beginner understand everything easily. So I think it'll be a great thing for me to start with."
   ]
  }
 ],
 "metadata": {
  "kernelspec": {
   "display_name": "Python 3",
   "language": "python",
   "name": "python3"
  },
  "language_info": {
   "codemirror_mode": {
    "name": "ipython",
    "version": 3
   },
   "file_extension": ".py",
   "mimetype": "text/x-python",
   "name": "python",
   "nbconvert_exporter": "python",
   "pygments_lexer": "ipython3",
   "version": "3.6.8"
  }
 },
 "nbformat": 4,
 "nbformat_minor": 2
}
