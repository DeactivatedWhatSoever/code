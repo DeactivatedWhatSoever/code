{
 "cells": [
  {
   "cell_type": "markdown",
   "metadata": {},
   "source": [
    "# Khan Academy - Computer Science\n",
    "* Intro to algorithms\n",
    "* Binary search\n",
    "* Asymptotic notation\n",
    "* Selection sort\n",
    "* Insertion sort\n",
    "* Recursive algorithms\n",
    "* Towers of Hanoi\n",
    "* Merge sort\n",
    "* Quick sort\n",
    "* Graph representation\n",
    "* Breadth-first search\n",
    "* Further learning\n",
    "The reason I'm taking this course is because the overview it has. It mostly has the most essential parts and I'd love to take it from the easy level. How easy I know is how much close you can get to the essence of what you're learning. Khan academy focuses on letting kids, or any beginner understand everything easily. So I think it'll be a great thing for me to start with.\n",
    " When I saw the index of this little course, they just give you the best way to search for something. And then they try to teach you the best way to sort something one by one. It's because binary search works only on sorted lists. If searching is that easy and fast, that means it's best to actually sort it. Search, sort, and graph. They must be the most important of all right? That's why they only really just teach them at the start.\n"
   ]
  }
 ],
 "metadata": {
  "kernelspec": {
   "display_name": "Python 3",
   "language": "python",
   "name": "python3"
  },
  "language_info": {
   "codemirror_mode": {
    "name": "ipython",
    "version": 3
   },
   "file_extension": ".py",
   "mimetype": "text/x-python",
   "name": "python",
   "nbconvert_exporter": "python",
   "pygments_lexer": "ipython3",
   "version": "3.6.8"
  }
 },
 "nbformat": 4,
 "nbformat_minor": 2
}
