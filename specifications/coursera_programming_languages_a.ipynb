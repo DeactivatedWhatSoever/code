{
 "cells": [
  {
   "cell_type": "markdown",
   "metadata": {},
   "source": [
    "# Programming Languages A\n",
    "* Week 1\n",
    "* Week 2\n",
    "* Week 3\n",
    "* Week 4\n",
    "* Week 5\n",
    "\n",
    "All the weeks don't give you the actual content. It's hard to get a sneak peak unless I actually get into the course. So I'll just dive right in!"
   ]
  }
 ],
 "metadata": {
  "kernelspec": {
   "display_name": "Python 3",
   "language": "python",
   "name": "python3"
  },
  "language_info": {
   "codemirror_mode": {
    "name": "ipython",
    "version": 3
   },
   "file_extension": ".py",
   "mimetype": "text/x-python",
   "name": "python",
   "nbconvert_exporter": "python",
   "pygments_lexer": "ipython3",
   "version": "3.6.8"
  }
 },
 "nbformat": 4,
 "nbformat_minor": 2
}
