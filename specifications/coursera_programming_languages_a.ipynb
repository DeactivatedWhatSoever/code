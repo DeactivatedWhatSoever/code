{
 "cells": [
  {
   "cell_type": "markdown",
   "metadata": {},
   "source": [
    "# Programming Languages A\n",
    "* Week 1\n",
    "* Week 2\n",
    "* Week 3\n",
    "* Week 4\n",
    "* Week 5\n",
    "\n",
    "All the weeks don't give you the actual content. It's hard to get a sneak peak unless I actually get into the course. So I'll just dive right in!"
   ]
  },
  {
   "cell_type": "markdown",
   "metadata": {},
   "source": [
    "# Week 1\n",
    "First week of my journey to learning programming languages. I just hope to view programming languages in a great way.\n",
    "\n",
    "## Start here!\n",
    "Just a few stuff talking about this and that. \n",
    "\n",
    "## Welcome! (And Some Course Mechanics)\n",
    "I just got the welcoming and stuff. After this course, I'll most likely be viewing programming languages in a different way. Which will make me write software in many other ways. Also, actually understand the language constructs. What a programming language needs, what a programming language is different from, why that programming language has such feature, how they differentiate from the phylosophy, etc.\n",
    "All the other things were about how the course will be and what materials we have. I didn't really get the homework part, but I think we're going to be doing a huge chunk of it for each week.\n",
    "\n",
    "## Who I Am / Acknowledgements\n",
    "Just telling who he is and acknowledging the people that made this possible. He certainly travels a lot, has two kids, likes doing activities like biking, hockey, and etc. Maybe I should find a sport quick. I'm dying lol.\n",
    "\n",
    "## What the Course is About / Initial Motivation\n",
    "This course mostly focuses on programming language constructs. Also it goes heavily on functional programming. It's pretty easy to say that this course is somewhat of a \"believe me and you'll get it\" course. The lecturer doesn't really defines what exactly we'll be learning. But he says that we'll learn the language features in a whole new way.\n",
    "\n",
    "## Recommended Background\n",
    "Implementation vs Interface, Recursion. I think I should get a grip on these two first. Since recursion is the most essential parts of functional programming. It actually is the way to use a repeat statement. Pretty much, because everything is a expression in FP. \n",
    "This course is actually for intermediate programmers.\n",
    "\n",
    "## Why Part A, Part B, Part C\n",
    "He didn't want to do it but it's for everyone to divide it into nice separate pieces. Part A = Part B + Part C. You need everything to proceed. Don't leave things out! It builds on top of everything!\n",
    "\n",
    "## Grading Policy\n",
    "Submit once per day! It's not going to be easy because of the peer-grading system. Not easy to actually get 100%. But well, get an A+ for 95% over! That's what you should aim for. An A+.\n",
    "\n",
    "## Very High-Level Outline\n",
    "* Part A\n",
    "    * Basics, functions, recursions, scope, variables, tuples, lists, ...\n",
    "    * Data types, pattern-matching, tail recursion\n",
    "    * First-class functions, closures\n",
    "    * Type inference, modules\n",
    "* Part B\n",
    "    * Quick \"re-do\" in a dynamically typed language; Delaying evaluation\n",
    "    * Implementing languages with interpreters; Static vs Dynamic typing\n",
    "* Part C\n",
    "    * Dynamically-typed OOP\n",
    "    * OOP vs FP decomposition\n",
    "        * Advanced OOP topics (e.g. mixins, double dispatch)\n",
    "        * Generics vs Subtyping\n"
   ]
  }
 ],
 "metadata": {
  "kernelspec": {
   "display_name": "Python 3",
   "language": "python",
   "name": "python3"
  },
  "language_info": {
   "codemirror_mode": {
    "name": "ipython",
    "version": 3
   },
   "file_extension": ".py",
   "mimetype": "text/x-python",
   "name": "python",
   "nbconvert_exporter": "python",
   "pygments_lexer": "ipython3",
   "version": "3.6.8"
  }
 },
 "nbformat": 4,
 "nbformat_minor": 2
}
